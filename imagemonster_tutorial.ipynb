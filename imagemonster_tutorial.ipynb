{
 "cells": [
  {
   "cell_type": "markdown",
   "metadata": {},
   "source": [
    "## IMAGEMONSTER TUTORIAL\n",
    "\n",
    "First import the package."
   ]
  },
  {
   "cell_type": "code",
   "execution_count": null,
   "metadata": {},
   "outputs": [],
   "source": [
    "import imagemonster as imon"
   ]
  },
  {
   "cell_type": "markdown",
   "metadata": {},
   "source": [
    "### Feature extraction"
   ]
  },
  {
   "cell_type": "markdown",
   "metadata": {},
   "source": [
    "Imagemonster has two different functions for creating the embeddings.\n",
    "\n",
    "`img2vec_resnet50` uses the ResNet50 model.\n",
    "\n",
    "`img2vec_xception` uses the Xception model.\n",
    "\n",
    "Use one out of the two models to create the embeddings.\n",
    "\n",
    "Each spits out a pickle file with the created embeddings."
   ]
  },
  {
   "cell_type": "code",
   "execution_count": null,
   "metadata": {},
   "outputs": [],
   "source": [
    "imon.img2vec_resnet50('images')"
   ]
  },
  {
   "cell_type": "code",
   "execution_count": null,
   "metadata": {},
   "outputs": [],
   "source": [
    "imon.img2vec_xception('images')"
   ]
  },
  {
   "cell_type": "markdown",
   "metadata": {},
   "source": [
    "### Dimensionality reduction\n",
    "\n",
    "Options can be run alone or in combination."
   ]
  },
  {
   "cell_type": "markdown",
   "metadata": {},
   "source": [
    "#### Option 1: Use PCA to reduce dimensionality (->2d) in the embedding space \n",
    "\n",
    "`pca_test(filename)` we want 0.95 and up\n",
    "\n",
    "`run_pca(filename, n_comp)` set number of components based on `pca_test`"
   ]
  },
  {
   "cell_type": "code",
   "execution_count": null,
   "metadata": {},
   "outputs": [],
   "source": [
    "imon.pca_test('res50.pkl')"
   ]
  },
  {
   "cell_type": "code",
   "execution_count": null,
   "metadata": {},
   "outputs": [],
   "source": [
    "imon.run_pca('res50.pkl',1500)"
   ]
  },
  {
   "cell_type": "markdown",
   "metadata": {},
   "source": [
    "#### Option 2: Use tSNE to reduce dimensionality (->2d) in the embedding space \n",
    "\n",
    "`run_tsne(filename, n_iter, perplexity)`\n",
    "\n",
    "Tweak [parameters](https://scikit-learn.org/stable/modules/generated/sklearn.manifold.TSNE.html) and re-run until you have a nice plot.\n",
    "\n",
    "Tip: Small dataset, low perplexity."
   ]
  },
  {
   "cell_type": "code",
   "execution_count": null,
   "metadata": {},
   "outputs": [],
   "source": [
    "imon.run_tsne('res50_pca.pkl', 3000, 2)"
   ]
  },
  {
   "cell_type": "markdown",
   "metadata": {},
   "source": [
    "#### Option 3: Use umap to reduce dimensionality (->2d) in the embedding space \n",
    "\n",
    "`run_umap(n_neighbours, min_dist, metric)`\n",
    "\n",
    "Tweak [parameters](https://umap-learn.readthedocs.io/en/latest/parameters.html#n-neighbors) and re-run until you have a nice plot.\n"
   ]
  },
  {
   "cell_type": "code",
   "execution_count": null,
   "metadata": {},
   "outputs": [],
   "source": [
    "imon.run_umap('res50_pca.pkl',3, 0.0001, 'manhattan')"
   ]
  },
  {
   "cell_type": "markdown",
   "metadata": {},
   "source": [
    "#### Image plot"
   ]
  },
  {
   "cell_type": "markdown",
   "metadata": {},
   "source": [
    "Shows image map and saves `imagemonster_plot.pdf`."
   ]
  },
  {
   "cell_type": "code",
   "execution_count": null,
   "metadata": {},
   "outputs": [],
   "source": [
    "imon.image_map('images', 'xception_umap.pkl')"
   ]
  }
 ],
 "metadata": {
  "kernelspec": {
   "display_name": "Python 3",
   "language": "python",
   "name": "python3"
  },
  "language_info": {
   "codemirror_mode": {
    "name": "ipython",
    "version": 3
   },
   "file_extension": ".py",
   "mimetype": "text/x-python",
   "name": "python",
   "nbconvert_exporter": "python",
   "pygments_lexer": "ipython3",
   "version": "3.7.6"
  }
 },
 "nbformat": 4,
 "nbformat_minor": 4
}
